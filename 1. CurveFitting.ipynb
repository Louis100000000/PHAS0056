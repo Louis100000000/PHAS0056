{
 "cells": [
  {
   "cell_type": "markdown",
   "metadata": {},
   "source": [
    "# PHAS0056 exercise 1: Curve Fitting"
   ]
  },
  {
   "cell_type": "markdown",
   "metadata": {},
   "source": [
    "## 1. Introduction"
   ]
  },
  {
   "cell_type": "markdown",
   "metadata": {},
   "source": [
    "This notebook includes examples of curve fitting using Python, the numpy library and the stochastic gradient descent method. We will first define a function that creates a polynomial with added noise, before defining a function that calculates the gradient of this polynomial. We will then use these functions in a stochastic descent algorithm to fit a first order polynomial, before trying to fit some third order polynomial data using polynomials of different orders. Finally, we will discuss the results of our fits."
   ]
  },
  {
   "cell_type": "markdown",
   "metadata": {},
   "source": [
    "##  2. A little background"
   ]
  },
  {
   "cell_type": "markdown",
   "metadata": {},
   "source": [
    "$\\chi^2$  is a value that is often used in data analysis to fit a curve to a set of data point. It is defined as\n",
    "$$ \\chi^2 = \\sum_i^N \\left( \\frac{f(x_i;\\theta) - \\tilde{f}}{\\sigma} \\right)^2 $$\n",
    "where where $\\tilde{f}$ corresponds to the actual distribution of data that we are studying, and ${f}$ is the fit function that we are trying to optimise. The final goal is to determine the parameters $\\theta$ that will minimise the value of $\\chi^2$: these parameters $\\theta$ will correspond to our best fit.\n",
    "\n",
    "In machine learning, $\\chi^2$ is particularly useful when used to perform what is called a stochastic gradient descent. Indeed we have: $$ \\left< \\frac{\\partial \\chi^2}{\\partial \\theta} \\right> \\propto \\left< f(x_i;\\theta) -\\tilde{f}\\right> \\frac{\\partial f}{\\partial \\theta} = \\left< \\Delta f\\right> \\frac{\\partial f}{\\partial \\theta} $$\n",
    "\n",
    "Knowing  $ \\theta_{i}$, we can then calculate the next value $ \\theta_{i+1}$, using:\n",
    "\n",
    "$$ \\theta_{i+1} = \\theta_{i} - \\eta_i  \\left< \\Delta f\\right> \\frac{\\partial f}{\\partial \\theta} $$\n",
    "where $\\eta_i$ is called the learning rate and corresponds to the step between a value of $\\theta$ and the following one. [1]"
   ]
  },
  {
   "cell_type": "markdown",
   "metadata": {},
   "source": [
    "## 3. Writing our functions"
   ]
  },
  {
   "cell_type": "markdown",
   "metadata": {},
   "source": [
    "We start by importing the modules and libraries that will be needed for the task:"
   ]
  },
  {
   "cell_type": "code",
   "execution_count": 113,
   "metadata": {},
   "outputs": [],
   "source": [
    "import numpy as np   # imports numpy\n",
    "import matplotlib.pyplot as plt # imports matplotlib\n",
    "import random  # imports random"
   ]
  },
  {
   "cell_type": "markdown",
   "metadata": {},
   "source": [
    "We can now define a function that creates a polynomial with x values, parameters $\\theta$ and added Gaussian noise with a standard deviation $\\sigma$:"
   ]
  },
  {
   "cell_type": "code",
   "execution_count": 114,
   "metadata": {},
   "outputs": [],
   "source": [
    "def polyModelWithNoise(x,theta,sigma):\n",
    "    '''This function takes in three parameters: \n",
    "    \"x\" is a numpy array of x values\n",
    "    \"theta\" is an array containing the parameters of the polynomials\n",
    "    \"sigma\" is the standard deviation of the noise distribution added \n",
    "    to the polynomial function\n",
    "    \n",
    "    This function the returns a 1D array called \"y\"\n",
    "    \"y\" contains x polynomials with \"theta\" parameters and added Gaussian noise'''\n",
    "    \n",
    "    y = np.zeros(len(x)) # initialises y as an array of len(x) zeros\n",
    "    \n",
    "    for i in range(len(x)):   # For i from 0 to the number of x values -1...\n",
    "                              # of parameters...\n",
    "        for j in range(len(theta)):\n",
    "        \n",
    "            y[i] = y[i] + theta[j]*(x[i]**j)   # ... the polynomial is updated.\n",
    "    \n",
    "    for k in range(len(x)):\n",
    "        y[k] = y[k] + random.gauss(0,sigma)  # adds Gaussian noise to our result\n",
    "    \n",
    "    return y"
   ]
  },
  {
   "cell_type": "markdown",
   "metadata": {},
   "source": [
    "We use the function we have defined to plot a sample or 100 points linearly arranged between 0 and 1. We use $\\theta$ = [0,1] and $\\sigma$ = 0.5:"
   ]
  },
  {
   "cell_type": "code",
   "execution_count": 164,
   "metadata": {},
   "outputs": [
    {
     "data": {
      "text/plain": [
       "<matplotlib.legend.Legend at 0x1f970b27cc8>"
      ]
     },
     "execution_count": 164,
     "metadata": {},
     "output_type": "execute_result"
    },
    {
     "data": {
      "image/png": "[encoded data removed]",
      "text/plain": [
       "<Figure size 432x288 with 1 Axes>"
      ]
     },
     "metadata": {
      "needs_background": "light"
     },
     "output_type": "display_data"
    }
   ],
   "source": [
    "x_values = np.linspace(0,1,100)   # generates 100 points linearly arranged\n",
    "                                  # between 0 and 1\n",
    "sigma_value = 0.5     # assigns a value to the noise sigma\n",
    "theta_values = np.array([0,1]) # assigns values to the parameters theta\n",
    "\n",
    "y_values = polyModelWithNoise(x_values,theta_values,sigma_value)  # calulates\n",
    "                                                                  # 100 polynomials\n",
    "\n",
    "\n",
    "plt.figure()   # new plot   \n",
    "plt.plot(x_values, y_values, \"+\", label = \"Data for $\\Theta$ = [0,1] and $\\sigma$ = 0.5\")    # plots y_values against\n",
    "                                                                                            # x_values\n",
    "plt.title(\"Sample of 100 data points generated by polyModelWithNoise between x = 0 and x = 1\")  # title of the plot\n",
    "plt.xlabel(\"x\")   # title of the x axis\n",
    "plt.ylabel(\"y\")   # title of the y axis\n",
    "plt.legend(loc=\"best\")"
   ]
  },
  {
   "cell_type": "markdown",
   "metadata": {},
   "source": [
    "We observe a linear repartition of the data, modified by the addition of the Gaussian noise, as expected.\n",
    "\n",
    "We define another function that returns the gradient of the polynomial function we have just created with respect to the parameters $\\theta$:"
   ]
  },
  {
   "cell_type": "code",
   "execution_count": 116,
   "metadata": {},
   "outputs": [],
   "source": [
    "def polyGradient(x,theta):\n",
    "    \n",
    "    '''This function takes in two parameters: \n",
    "    \"x\" is a numpy array of x values\n",
    "    \"theta\" is an array containing the parameters of the polynomials\n",
    "    \n",
    "    This function the returns a 2D array called \"grad\".\n",
    "    \"grad\" is the gradient of the polynomial functions with respect \n",
    "    to the parameters theta.\n",
    "    '''\n",
    "    \n",
    "    format = (len(x),len(theta))\n",
    "    grad = np.zeros(format)  # creates an array containing as many zeros\n",
    "                             # as there are x values and theta parameters\n",
    "        \n",
    "    for i in range(len(x)):         # For i from 0 to the number of x values -1...\n",
    "        for j in range (len(theta)):  # ... and for j from 0 to the number of theta parameters -1...\n",
    "        \n",
    "            grad [i][j] = x[i]**j     # ...the value of the gradient is updated.\n",
    "        \n",
    "    return grad"
   ]
  },
  {
   "cell_type": "markdown",
   "metadata": {},
   "source": [
    "## 4. Implementing a stochastic gradient descent algorithm for a first degree polynomial"
   ]
  },
  {
   "cell_type": "markdown",
   "metadata": {},
   "source": [
    "We are now ready to implement the stochastic gradient descent method, using parts of the Week1_CurveFitting_notebook script: [1]"
   ]
  },
  {
   "cell_type": "code",
   "execution_count": 167,
   "metadata": {},
   "outputs": [
    {
     "ename": "ValueError",
     "evalue": "operands could not be broadcast together with shapes (1,10) (10,2) ",
     "output_type": "error",
     "traceback": [
      "\u001b[1;31m---------------------------------------------------------------------------\u001b[0m",
      "\u001b[1;31mValueError\u001b[0m                                Traceback (most recent call last)",
      "\u001b[1;32m<ipython-input-167-d737094b2c49>\u001b[0m in \u001b[0;36m<module>\u001b[1;34m\u001b[0m\n\u001b[0;32m     21\u001b[0m     \u001b[0mdeviation\u001b[0m\u001b[1;33m=\u001b[0m\u001b[0mpolyModelWithNoise\u001b[0m\u001b[1;33m(\u001b[0m\u001b[0mx_values\u001b[0m\u001b[1;33m,\u001b[0m\u001b[1;33m[\u001b[0m\u001b[1;36m0\u001b[0m\u001b[1;33m,\u001b[0m\u001b[1;36m1\u001b[0m\u001b[1;33m]\u001b[0m\u001b[1;33m,\u001b[0m\u001b[1;36m0.5\u001b[0m\u001b[1;33m)\u001b[0m\u001b[1;33m-\u001b[0m\u001b[0mpolyModelWithNoise\u001b[0m\u001b[1;33m(\u001b[0m\u001b[0mx_values\u001b[0m\u001b[1;33m,\u001b[0m \u001b[0mtheta\u001b[0m\u001b[1;33m,\u001b[0m \u001b[1;36m0\u001b[0m\u001b[1;33m)\u001b[0m\u001b[1;33m\u001b[0m\u001b[1;33m\u001b[0m\u001b[0m\n\u001b[0;32m     22\u001b[0m     \u001b[1;31m#Now work out where do go next\u001b[0m\u001b[1;33m\u001b[0m\u001b[1;33m\u001b[0m\u001b[1;33m\u001b[0m\u001b[0m\n\u001b[1;32m---> 23\u001b[1;33m     \u001b[0mtheta\u001b[0m\u001b[1;33m-=\u001b[0m\u001b[0mlearning_rate\u001b[0m\u001b[1;33m*\u001b[0m\u001b[0mnp\u001b[0m\u001b[1;33m.\u001b[0m\u001b[0maverage\u001b[0m\u001b[1;33m(\u001b[0m\u001b[0mdeviation\u001b[0m\u001b[1;33m[\u001b[0m\u001b[1;32mNone\u001b[0m\u001b[1;33m,\u001b[0m\u001b[1;33m:\u001b[0m\u001b[1;33m]\u001b[0m\u001b[1;33m*\u001b[0m\u001b[0mpolyGradient\u001b[0m\u001b[1;33m(\u001b[0m\u001b[0mx_values\u001b[0m\u001b[1;33m,\u001b[0m\u001b[0mtheta\u001b[0m\u001b[1;33m)\u001b[0m\u001b[1;33m,\u001b[0m\u001b[0maxis\u001b[0m\u001b[1;33m=\u001b[0m\u001b[1;36m1\u001b[0m\u001b[1;33m)\u001b[0m\u001b[1;33m\u001b[0m\u001b[1;33m\u001b[0m\u001b[0m\n\u001b[0m\u001b[0;32m     24\u001b[0m     \u001b[0mthetaArray\u001b[0m\u001b[1;33m[\u001b[0m\u001b[0mi\u001b[0m\u001b[1;33m+\u001b[0m\u001b[1;36m1\u001b[0m\u001b[1;33m]\u001b[0m\u001b[1;33m=\u001b[0m\u001b[0mtheta\u001b[0m\u001b[1;33m\u001b[0m\u001b[1;33m\u001b[0m\u001b[0m\n",
      "\u001b[1;31mValueError\u001b[0m: operands could not be broadcast together with shapes (1,10) (10,2) "
     ]
    }
   ],
   "source": [
    "def get_avg_chisq(x, theta):\n",
    "    '''Gets two parameters:\n",
    "    array \"x\" and array \"theta\"\n",
    "    \n",
    "    Returns the average chi squared\"'''\n",
    "    return np.average((polyModelWithNoise(x, theta, 0.5)-true_polyModel(x))**2)\n",
    "\n",
    "numSteps = 99 # number of steps\n",
    "theta=[-1,0.5] # Intial theta parameters\n",
    "learning_rate = 0.5 # learning rate\n",
    "\n",
    "for i in range(numSteps):\n",
    "    x_values = np.zeros(10)   # initialises x_values2 as an array of 10 zeros\n",
    "    \n",
    "    for j in range(10):  \n",
    "        x_values[j] = random.random()    # creates a sample of 10 random values\n",
    "                                          # between 0 and 1 \n",
    "    chiSq=get_avg_chisq(x_values,theta)\n",
    "\n",
    "    #Work out difference to true function\n",
    "    deviation=polyModelWithNoise(x_values,[0,1],0.5)-polyModelWithNoise(x_values, theta, 0)\n",
    "    #Now work out where do go next\n",
    "    theta-=learning_rate*np.average(deviation[None,:]*polyGradient(x_values,theta),axis=1)\n",
    "    thetaArray[i+1]=theta"
   ]
  },
  {
   "cell_type": "markdown",
   "metadata": {},
   "source": [
    "## 5. Fitting a third order polynomial"
   ]
  },
  {
   "cell_type": "markdown",
   "metadata": {},
   "source": [
    "Our next step is to define a third degree polynomial with parameters $\\theta$ = [0,1,2,2] and the same noise we used before. We first try to fit this data using a first order polynomial:"
   ]
  },
  {
   "cell_type": "code",
   "execution_count": 148,
   "metadata": {},
   "outputs": [
    {
     "ename": "TypeError",
     "evalue": "polyModelWithNoise() missing 1 required positional argument: 'sigma'",
     "output_type": "error",
     "traceback": [
      "\u001b[1;31m---------------------------------------------------------------------------\u001b[0m",
      "\u001b[1;31mTypeError\u001b[0m                                 Traceback (most recent call last)",
      "\u001b[1;32m<ipython-input-148-6ead9eaf3e51>\u001b[0m in \u001b[0;36m<module>\u001b[1;34m\u001b[0m\n\u001b[0;32m     12\u001b[0m \u001b[1;33m\u001b[0m\u001b[0m\n\u001b[0;32m     13\u001b[0m     \u001b[1;31m#Work out difference to true function\u001b[0m\u001b[1;33m\u001b[0m\u001b[1;33m\u001b[0m\u001b[1;33m\u001b[0m\u001b[0m\n\u001b[1;32m---> 14\u001b[1;33m     \u001b[0mdeviation\u001b[0m\u001b[1;33m=\u001b[0m\u001b[0mpolyModelWithNoise\u001b[0m\u001b[1;33m(\u001b[0m\u001b[0mx_values\u001b[0m\u001b[1;33m,\u001b[0m\u001b[1;33m[\u001b[0m\u001b[1;36m0\u001b[0m\u001b[1;33m,\u001b[0m\u001b[1;36m1\u001b[0m\u001b[1;33m,\u001b[0m\u001b[1;36m2\u001b[0m\u001b[1;33m,\u001b[0m\u001b[1;36m2\u001b[0m\u001b[1;33m]\u001b[0m\u001b[1;33m,\u001b[0m\u001b[1;36m0.5\u001b[0m\u001b[1;33m)\u001b[0m\u001b[1;33m-\u001b[0m\u001b[0mpolyModelWithNoise\u001b[0m\u001b[1;33m(\u001b[0m\u001b[0mx_values\u001b[0m\u001b[1;33m,\u001b[0m \u001b[0mtheta\u001b[0m\u001b[1;33m)\u001b[0m\u001b[1;33m\u001b[0m\u001b[1;33m\u001b[0m\u001b[0m\n\u001b[0m\u001b[0;32m     15\u001b[0m     \u001b[1;31m#Now work out where do go next\u001b[0m\u001b[1;33m\u001b[0m\u001b[1;33m\u001b[0m\u001b[1;33m\u001b[0m\u001b[0m\n\u001b[0;32m     16\u001b[0m     \u001b[0mtheta\u001b[0m\u001b[1;33m-=\u001b[0m\u001b[0mlearning_rate\u001b[0m\u001b[1;33m*\u001b[0m\u001b[0mnp\u001b[0m\u001b[1;33m.\u001b[0m\u001b[0maverage\u001b[0m\u001b[1;33m(\u001b[0m\u001b[0mdeviation\u001b[0m\u001b[1;33m[\u001b[0m\u001b[1;32mNone\u001b[0m\u001b[1;33m,\u001b[0m\u001b[1;33m:\u001b[0m\u001b[1;33m]\u001b[0m\u001b[1;33m*\u001b[0m\u001b[0mpolyGradient\u001b[0m\u001b[1;33m(\u001b[0m\u001b[0mx_values\u001b[0m\u001b[1;33m,\u001b[0m\u001b[0mtheta\u001b[0m\u001b[1;33m)\u001b[0m\u001b[1;33m,\u001b[0m\u001b[0maxis\u001b[0m\u001b[1;33m=\u001b[0m\u001b[1;36m1\u001b[0m\u001b[1;33m)\u001b[0m\u001b[1;33m\u001b[0m\u001b[1;33m\u001b[0m\u001b[0m\n",
      "\u001b[1;31mTypeError\u001b[0m: polyModelWithNoise() missing 1 required positional argument: 'sigma'"
     ]
    }
   ],
   "source": [
    "numSteps = 99\n",
    "theta=[-1,0.5] # Intial theta parameters for a 1st order polynomial\n",
    "learning_rate = 0.5 # learning rate\n",
    "\n",
    "for i in range(numSteps):\n",
    "    x_values = np.zeros(10)   # initialises x_values as an array of 10 zeros\n",
    "    \n",
    "    for j in range(10):  \n",
    "        x_values[j] = random.random()    # creates a sample of 10 random values\n",
    "                                          # between 0 and 1 \n",
    "    chiSq=get_avg_chisq(x_values,theta)\n",
    "\n",
    "    #Work out difference to true function\n",
    "    deviation=polyModelWithNoise(x_values,[0,1,2,2],0.5)-polyModelWithNoise(x_values, theta, 0)\n",
    "    #Now work out where do go next\n",
    "    theta-=learning_rate*np.average(deviation[None,:]*polyGradient(x_values,theta),axis=1)\n",
    "    thetaArray[i+1]=theta"
   ]
  },
  {
   "cell_type": "markdown",
   "metadata": {},
   "source": [
    "We now try to fit the same polynomial using a third order polynomial:"
   ]
  },
  {
   "cell_type": "code",
   "execution_count": 145,
   "metadata": {},
   "outputs": [
    {
     "ename": "ValueError",
     "evalue": "operands could not be broadcast together with shapes (1,10) (10,4) ",
     "output_type": "error",
     "traceback": [
      "\u001b[1;31m---------------------------------------------------------------------------\u001b[0m",
      "\u001b[1;31mValueError\u001b[0m                                Traceback (most recent call last)",
      "\u001b[1;32m<ipython-input-145-b3cb17f6f459>\u001b[0m in \u001b[0;36m<module>\u001b[1;34m\u001b[0m\n\u001b[0;32m     12\u001b[0m     \u001b[0mdeviation\u001b[0m\u001b[1;33m=\u001b[0m\u001b[0mpolyModelWithNoise\u001b[0m\u001b[1;33m(\u001b[0m\u001b[0mx_values\u001b[0m\u001b[1;33m,\u001b[0m\u001b[1;33m[\u001b[0m\u001b[1;36m0\u001b[0m\u001b[1;33m,\u001b[0m\u001b[1;36m1\u001b[0m\u001b[1;33m,\u001b[0m\u001b[1;36m2\u001b[0m\u001b[1;33m,\u001b[0m\u001b[1;36m2\u001b[0m\u001b[1;33m]\u001b[0m\u001b[1;33m,\u001b[0m\u001b[1;36m0.5\u001b[0m\u001b[1;33m)\u001b[0m\u001b[1;33m-\u001b[0m\u001b[0mpolyModelWithNoise\u001b[0m\u001b[1;33m(\u001b[0m\u001b[0mx_values\u001b[0m\u001b[1;33m,\u001b[0m \u001b[0mtheta\u001b[0m\u001b[1;33m,\u001b[0m \u001b[1;36m0.5\u001b[0m\u001b[1;33m)\u001b[0m \u001b[1;31m# calculates deviation\u001b[0m\u001b[1;33m\u001b[0m\u001b[1;33m\u001b[0m\u001b[0m\n\u001b[0;32m     13\u001b[0m \u001b[1;33m\u001b[0m\u001b[0m\n\u001b[1;32m---> 14\u001b[1;33m     \u001b[0mtheta\u001b[0m\u001b[1;33m-=\u001b[0m\u001b[0mlearning_rate\u001b[0m\u001b[1;33m*\u001b[0m\u001b[0mnp\u001b[0m\u001b[1;33m.\u001b[0m\u001b[0maverage\u001b[0m\u001b[1;33m(\u001b[0m\u001b[0mdeviation\u001b[0m\u001b[1;33m[\u001b[0m\u001b[1;32mNone\u001b[0m\u001b[1;33m,\u001b[0m\u001b[1;33m:\u001b[0m\u001b[1;33m]\u001b[0m\u001b[1;33m*\u001b[0m\u001b[0mpolyGradient\u001b[0m\u001b[1;33m(\u001b[0m\u001b[0mx_values\u001b[0m\u001b[1;33m,\u001b[0m\u001b[0mtheta\u001b[0m\u001b[1;33m)\u001b[0m\u001b[1;33m,\u001b[0m\u001b[0maxis\u001b[0m\u001b[1;33m=\u001b[0m\u001b[1;36m1\u001b[0m\u001b[1;33m)\u001b[0m \u001b[1;31m# calculates new theta parameters\u001b[0m\u001b[1;33m\u001b[0m\u001b[1;33m\u001b[0m\u001b[0m\n\u001b[0m\u001b[0;32m     15\u001b[0m     \u001b[0mthetaArray\u001b[0m\u001b[1;33m[\u001b[0m\u001b[0mi\u001b[0m\u001b[1;33m+\u001b[0m\u001b[1;36m1\u001b[0m\u001b[1;33m]\u001b[0m\u001b[1;33m=\u001b[0m\u001b[0mtheta\u001b[0m\u001b[1;33m\u001b[0m\u001b[1;33m\u001b[0m\u001b[0m\n",
      "\u001b[1;31mValueError\u001b[0m: operands could not be broadcast together with shapes (1,10) (10,4) "
     ]
    }
   ],
   "source": [
    "numSteps = 99\n",
    "theta=[-1,0.5,0.5,0.5] # Intial theta parameters for a 3rd order polynomial\n",
    "learning_rate = 0.5 # learning rate\n",
    "\n",
    "for i in range(numSteps):\n",
    "    x_values = np.zeros(10)   # initialises x_values as an array of 10 zeros\n",
    "    \n",
    "    for j in range(10):  \n",
    "        x_values[j] = random.random()    # creates a sample of 10 random values\n",
    "                                          # between 0 and 1 \n",
    "    chiSq=get_avg_chisq(x_values,theta)\n",
    "\n",
    "    #Work out difference to true function\n",
    "    deviation=polyModelWithNoise(x_values,[0,1,2,2],0.5)-polyModelWithNoise(x_values, theta, 0)\n",
    "    #Now work out where do go next\n",
    "    theta-=learning_rate*np.average(deviation[None,:]*polyGradient(x_values,theta),axis=1)\n",
    "    thetaArray[i+1]=theta"
   ]
  },
  {
   "cell_type": "markdown",
   "metadata": {},
   "source": [
    "The same polynomial is now fitted to a 7th order using a seventh order polynomial:"
   ]
  },
  {
   "cell_type": "code",
   "execution_count": 150,
   "metadata": {},
   "outputs": [
    {
     "ename": "ValueError",
     "evalue": "operands could not be broadcast together with shapes (1,10) (10,8) ",
     "output_type": "error",
     "traceback": [
      "\u001b[1;31m---------------------------------------------------------------------------\u001b[0m",
      "\u001b[1;31mValueError\u001b[0m                                Traceback (most recent call last)",
      "\u001b[1;32m<ipython-input-150-19d0a0e15f0e>\u001b[0m in \u001b[0;36m<module>\u001b[1;34m\u001b[0m\n\u001b[0;32m     14\u001b[0m     \u001b[0mdeviation\u001b[0m\u001b[1;33m=\u001b[0m\u001b[0mpolyModelWithNoise\u001b[0m\u001b[1;33m(\u001b[0m\u001b[0mx_values\u001b[0m\u001b[1;33m,\u001b[0m\u001b[1;33m[\u001b[0m\u001b[1;36m0\u001b[0m\u001b[1;33m,\u001b[0m\u001b[1;36m1\u001b[0m\u001b[1;33m,\u001b[0m\u001b[1;36m2\u001b[0m\u001b[1;33m,\u001b[0m\u001b[1;36m2\u001b[0m\u001b[1;33m]\u001b[0m\u001b[1;33m,\u001b[0m\u001b[1;36m0.5\u001b[0m\u001b[1;33m)\u001b[0m\u001b[1;33m-\u001b[0m\u001b[0mpolyModelWithNoise\u001b[0m\u001b[1;33m(\u001b[0m\u001b[0mx_values\u001b[0m\u001b[1;33m,\u001b[0m \u001b[0mtheta\u001b[0m\u001b[1;33m,\u001b[0m \u001b[1;36m0\u001b[0m\u001b[1;33m)\u001b[0m\u001b[1;33m\u001b[0m\u001b[1;33m\u001b[0m\u001b[0m\n\u001b[0;32m     15\u001b[0m     \u001b[1;31m#Now work out where do go next\u001b[0m\u001b[1;33m\u001b[0m\u001b[1;33m\u001b[0m\u001b[1;33m\u001b[0m\u001b[0m\n\u001b[1;32m---> 16\u001b[1;33m     \u001b[0mtheta\u001b[0m\u001b[1;33m-=\u001b[0m\u001b[0mlearning_rate\u001b[0m\u001b[1;33m*\u001b[0m\u001b[0mnp\u001b[0m\u001b[1;33m.\u001b[0m\u001b[0maverage\u001b[0m\u001b[1;33m(\u001b[0m\u001b[0mdeviation\u001b[0m\u001b[1;33m[\u001b[0m\u001b[1;32mNone\u001b[0m\u001b[1;33m,\u001b[0m\u001b[1;33m:\u001b[0m\u001b[1;33m]\u001b[0m\u001b[1;33m*\u001b[0m\u001b[0mpolyGradient\u001b[0m\u001b[1;33m(\u001b[0m\u001b[0mx_values\u001b[0m\u001b[1;33m,\u001b[0m\u001b[0mtheta\u001b[0m\u001b[1;33m)\u001b[0m\u001b[1;33m,\u001b[0m\u001b[0maxis\u001b[0m\u001b[1;33m=\u001b[0m\u001b[1;36m1\u001b[0m\u001b[1;33m)\u001b[0m\u001b[1;33m\u001b[0m\u001b[1;33m\u001b[0m\u001b[0m\n\u001b[0m\u001b[0;32m     17\u001b[0m     \u001b[0mthetaArray\u001b[0m\u001b[1;33m[\u001b[0m\u001b[0mi\u001b[0m\u001b[1;33m+\u001b[0m\u001b[1;36m1\u001b[0m\u001b[1;33m]\u001b[0m\u001b[1;33m=\u001b[0m\u001b[0mtheta\u001b[0m\u001b[1;33m\u001b[0m\u001b[1;33m\u001b[0m\u001b[0m\n",
      "\u001b[1;31mValueError\u001b[0m: operands could not be broadcast together with shapes (1,10) (10,8) "
     ]
    }
   ],
   "source": [
    "numSteps = 99\n",
    "theta=[-1,0.5,0.5,0.5,0.5,0.5,0.5,0.5] # Intial theta parameters for a 1st order polynomial\n",
    "learning_rate = 0.5 # learning rate\n",
    "\n",
    "for i in range(numSteps):\n",
    "    x_values = np.zeros(10)   # initialises x_values as an array of 10 zeros\n",
    "    \n",
    "    for j in range(10):  \n",
    "        x_values[j] = random.random()    # creates a sample of 10 random values\n",
    "                                          # between 0 and 1 \n",
    "    chiSq=get_avg_chisq(x_values,theta)\n",
    "\n",
    "    #Work out difference to true function\n",
    "    deviation=polyModelWithNoise(x_values,[0,1,2,2],0.5)-polyModelWithNoise(x_values, theta, 0)\n",
    "    #Now work out where do go next\n",
    "    theta-=learning_rate*np.average(deviation[None,:]*polyGradient(x_values,theta),axis=1)\n",
    "    thetaArray[i+1]=theta"
   ]
  },
  {
   "cell_type": "markdown",
   "metadata": {},
   "source": [
    "## 6. Plotting the third order polynomial data"
   ]
  },
  {
   "cell_type": "markdown",
   "metadata": {},
   "source": [
    "We plot our third order polynomial data from x = -0.5 to x = 1.5: "
   ]
  },
  {
   "cell_type": "code",
   "execution_count": 165,
   "metadata": {},
   "outputs": [
    {
     "data": {
      "text/plain": [
       "<matplotlib.legend.Legend at 0x1f96f7a9a08>"
      ]
     },
     "execution_count": 165,
     "metadata": {},
     "output_type": "execute_result"
    },
    {
     "data": {
      "image/png": "[encoded data removed]",
      "text/plain": [
       "<Figure size 432x288 with 1 Axes>"
      ]
     },
     "metadata": {
      "needs_background": "light"
     },
     "output_type": "display_data"
    }
   ],
   "source": [
    "x_values_plot = np.linspace(-0.5,1.5,100)   # generates 100 points \n",
    "                                            # linearly arranged between 0.5 \n",
    "                                            # and 1.5\n",
    "                                  \n",
    "sigma_value = 0.5     # assigns a value to the noise sigma\n",
    "theta_3rd_order = np.array([0,1,2,2]) # assigns values to the parameters theta\n",
    "\n",
    "y_values_plot = polyModelWithNoise(x_values_plot,theta_3rd_order,sigma_value) # calulates 100 y values\n",
    "\n",
    "\n",
    "plt.figure()   # new plot  \n",
    "\n",
    "plt.plot(x_values_plot, y_values_plot, \"+\",  label = \"Data generated for $\\Theta$ = [0,1,2,2] and $\\sigma$ = 0.5\") # plots data                               \n",
    "plt.title(\"Third order polynomial data between x = -0.5 and x = 1.5\")  # title of the plot\n",
    "plt.xlabel(\"x\")   # title of the x axis\n",
    "plt.ylabel(\"y\")   # title of the y axis\n",
    "plt.legend(loc=\"best\")"
   ]
  },
  {
   "cell_type": "markdown",
   "metadata": {},
   "source": [
    "## 7. Discussion"
   ]
  },
  {
   "cell_type": "markdown",
   "metadata": {},
   "source": []
  },
  {
   "cell_type": "markdown",
   "metadata": {},
   "source": [
    "## 8. Conclusion"
   ]
  },
  {
   "cell_type": "markdown",
   "metadata": {},
   "source": []
  },
  {
   "cell_type": "markdown",
   "metadata": {},
   "source": [
    "## 9. References"
   ]
  },
  {
   "cell_type": "markdown",
   "metadata": {},
   "source": [
    "[1] PHAS0056: Practical Machine Learning for Physicists, Week1_CurveFitting_notebook, Ryan Nichol, https://colab.research.google.com/github/nichol77/mlForPhysicists/blob/master/Week1/Week1_CurveFitting.ipynb, accessed 19/10/2020"
   ]
  }
 ],
 "metadata": {
  "kernelspec": {
   "display_name": "Python 3",
   "language": "python",
   "name": "python3"
  },
  "language_info": {
   "codemirror_mode": {
    "name": "ipython",
    "version": 3
   },
   "file_extension": ".py",
   "mimetype": "text/x-python",
   "name": "python",
   "nbconvert_exporter": "python",
   "pygments_lexer": "ipython3",
   "version": "3.7.6"
  }
 },
 "nbformat": 4,
 "nbformat_minor": 4
}
